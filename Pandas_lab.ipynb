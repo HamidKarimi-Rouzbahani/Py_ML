{
 "cells": [
  {
   "cell_type": "code",
   "execution_count": 3,
   "id": "a68cd88a",
   "metadata": {},
   "outputs": [],
   "source": [
    "import pandas as pd"
   ]
  },
  {
   "cell_type": "code",
   "execution_count": 4,
   "id": "8ee84113",
   "metadata": {},
   "outputs": [],
   "source": [
    "import numpy as np"
   ]
  },
  {
   "cell_type": "code",
   "execution_count": 5,
   "id": "d1306696",
   "metadata": {},
   "outputs": [
    {
     "data": {
      "text/plain": [
       "0        1\n",
       "1        4\n",
       "2        5\n",
       "3    Hamid\n",
       "4       -1\n",
       "5      NaN\n",
       "dtype: object"
      ]
     },
     "execution_count": 5,
     "metadata": {},
     "output_type": "execute_result"
    }
   ],
   "source": [
    "pd.Series([1, 4, 5, 'Hamid', -1, np.nan])"
   ]
  },
  {
   "cell_type": "code",
   "execution_count": 6,
   "id": "e5c9f4a4",
   "metadata": {},
   "outputs": [],
   "source": [
    "dates= pd.date_range(\"20220520\", periods=7)"
   ]
  },
  {
   "cell_type": "code",
   "execution_count": 7,
   "id": "ae451a3d",
   "metadata": {},
   "outputs": [
    {
     "data": {
      "text/plain": [
       "DatetimeIndex(['2022-05-20', '2022-05-21', '2022-05-22', '2022-05-23',\n",
       "               '2022-05-24', '2022-05-25', '2022-05-26'],\n",
       "              dtype='datetime64[ns]', freq='D')"
      ]
     },
     "execution_count": 7,
     "metadata": {},
     "output_type": "execute_result"
    }
   ],
   "source": [
    "dates"
   ]
  },
  {
   "cell_type": "code",
   "execution_count": 8,
   "id": "3a11d706",
   "metadata": {},
   "outputs": [
    {
     "data": {
      "text/plain": [
       "array([[-0.31852786, -1.051311  ,  2.15390205,  0.20120898],\n",
       "       [ 0.37458099, -1.21889207,  2.27940595,  0.8209063 ],\n",
       "       [-0.61800195, -0.7551517 ,  1.46325941, -0.7521794 ],\n",
       "       [ 0.95294631,  1.13668999, -0.40160164, -1.11534346],\n",
       "       [-0.86875697,  0.34027051, -1.15391181,  1.88994539],\n",
       "       [ 0.16204185, -1.72464582,  0.04807522,  0.91616598]])"
      ]
     },
     "execution_count": 8,
     "metadata": {},
     "output_type": "execute_result"
    }
   ],
   "source": []
  },
  {
   "cell_type": "code",
   "execution_count": 12,
   "id": "9429a16d",
   "metadata": {},
   "outputs": [],
   "source": [
    "df=pd.DataFrame(np.random.randn(7,4), index=dates, columns = ['a','b','c','d'])"
   ]
  },
  {
   "cell_type": "code",
   "execution_count": 13,
   "id": "4488e89f",
   "metadata": {},
   "outputs": [
    {
     "name": "stdout",
     "output_type": "stream",
     "text": [
      "                   a         b         c         d\n",
      "2022-05-20 -1.365380 -2.427711  2.822647 -0.045844\n",
      "2022-05-21 -0.679436  2.023068 -0.634096 -0.782462\n",
      "2022-05-22 -0.620292 -1.093082  1.491700 -2.515743\n",
      "2022-05-23  0.049379 -0.492923 -2.746493  0.439179\n",
      "2022-05-24 -1.940825 -2.370810 -1.013463  0.085831\n",
      "2022-05-25  0.855029  0.019175 -1.649914  0.470173\n",
      "2022-05-26 -1.851442  2.273616 -0.853063 -0.144155\n"
     ]
    }
   ],
   "source": [
    "print(df)"
   ]
  },
  {
   "cell_type": "code",
   "execution_count": 14,
   "id": "6ae92d7a",
   "metadata": {},
   "outputs": [
    {
     "data": {
      "text/html": [
       "<div>\n",
       "<style scoped>\n",
       "    .dataframe tbody tr th:only-of-type {\n",
       "        vertical-align: middle;\n",
       "    }\n",
       "\n",
       "    .dataframe tbody tr th {\n",
       "        vertical-align: top;\n",
       "    }\n",
       "\n",
       "    .dataframe thead th {\n",
       "        text-align: right;\n",
       "    }\n",
       "</style>\n",
       "<table border=\"1\" class=\"dataframe\">\n",
       "  <thead>\n",
       "    <tr style=\"text-align: right;\">\n",
       "      <th></th>\n",
       "      <th>a</th>\n",
       "      <th>b</th>\n",
       "      <th>c</th>\n",
       "      <th>d</th>\n",
       "    </tr>\n",
       "  </thead>\n",
       "  <tbody>\n",
       "    <tr>\n",
       "      <th>2022-05-23</th>\n",
       "      <td>0.049379</td>\n",
       "      <td>-0.492923</td>\n",
       "      <td>-2.746493</td>\n",
       "      <td>0.439179</td>\n",
       "    </tr>\n",
       "    <tr>\n",
       "      <th>2022-05-24</th>\n",
       "      <td>-1.940825</td>\n",
       "      <td>-2.370810</td>\n",
       "      <td>-1.013463</td>\n",
       "      <td>0.085831</td>\n",
       "    </tr>\n",
       "    <tr>\n",
       "      <th>2022-05-25</th>\n",
       "      <td>0.855029</td>\n",
       "      <td>0.019175</td>\n",
       "      <td>-1.649914</td>\n",
       "      <td>0.470173</td>\n",
       "    </tr>\n",
       "    <tr>\n",
       "      <th>2022-05-26</th>\n",
       "      <td>-1.851442</td>\n",
       "      <td>2.273616</td>\n",
       "      <td>-0.853063</td>\n",
       "      <td>-0.144155</td>\n",
       "    </tr>\n",
       "  </tbody>\n",
       "</table>\n",
       "</div>"
      ],
      "text/plain": [
       "                   a         b         c         d\n",
       "2022-05-23  0.049379 -0.492923 -2.746493  0.439179\n",
       "2022-05-24 -1.940825 -2.370810 -1.013463  0.085831\n",
       "2022-05-25  0.855029  0.019175 -1.649914  0.470173\n",
       "2022-05-26 -1.851442  2.273616 -0.853063 -0.144155"
      ]
     },
     "execution_count": 14,
     "metadata": {},
     "output_type": "execute_result"
    }
   ],
   "source": [
    "df.tail(4)"
   ]
  },
  {
   "cell_type": "code",
   "execution_count": 15,
   "id": "635d9484",
   "metadata": {},
   "outputs": [
    {
     "data": {
      "text/html": [
       "<div>\n",
       "<style scoped>\n",
       "    .dataframe tbody tr th:only-of-type {\n",
       "        vertical-align: middle;\n",
       "    }\n",
       "\n",
       "    .dataframe tbody tr th {\n",
       "        vertical-align: top;\n",
       "    }\n",
       "\n",
       "    .dataframe thead th {\n",
       "        text-align: right;\n",
       "    }\n",
       "</style>\n",
       "<table border=\"1\" class=\"dataframe\">\n",
       "  <thead>\n",
       "    <tr style=\"text-align: right;\">\n",
       "      <th></th>\n",
       "      <th>a</th>\n",
       "      <th>b</th>\n",
       "      <th>c</th>\n",
       "      <th>d</th>\n",
       "    </tr>\n",
       "  </thead>\n",
       "  <tbody>\n",
       "    <tr>\n",
       "      <th>2022-05-20</th>\n",
       "      <td>-1.365380</td>\n",
       "      <td>-2.427711</td>\n",
       "      <td>2.822647</td>\n",
       "      <td>-0.045844</td>\n",
       "    </tr>\n",
       "    <tr>\n",
       "      <th>2022-05-21</th>\n",
       "      <td>-0.679436</td>\n",
       "      <td>2.023068</td>\n",
       "      <td>-0.634096</td>\n",
       "      <td>-0.782462</td>\n",
       "    </tr>\n",
       "    <tr>\n",
       "      <th>2022-05-22</th>\n",
       "      <td>-0.620292</td>\n",
       "      <td>-1.093082</td>\n",
       "      <td>1.491700</td>\n",
       "      <td>-2.515743</td>\n",
       "    </tr>\n",
       "    <tr>\n",
       "      <th>2022-05-23</th>\n",
       "      <td>0.049379</td>\n",
       "      <td>-0.492923</td>\n",
       "      <td>-2.746493</td>\n",
       "      <td>0.439179</td>\n",
       "    </tr>\n",
       "  </tbody>\n",
       "</table>\n",
       "</div>"
      ],
      "text/plain": [
       "                   a         b         c         d\n",
       "2022-05-20 -1.365380 -2.427711  2.822647 -0.045844\n",
       "2022-05-21 -0.679436  2.023068 -0.634096 -0.782462\n",
       "2022-05-22 -0.620292 -1.093082  1.491700 -2.515743\n",
       "2022-05-23  0.049379 -0.492923 -2.746493  0.439179"
      ]
     },
     "execution_count": 15,
     "metadata": {},
     "output_type": "execute_result"
    }
   ],
   "source": [
    "df.head(4)"
   ]
  },
  {
   "cell_type": "code",
   "execution_count": 23,
   "id": "8e14b385",
   "metadata": {},
   "outputs": [
    {
     "data": {
      "text/html": [
       "<div>\n",
       "<style scoped>\n",
       "    .dataframe tbody tr th:only-of-type {\n",
       "        vertical-align: middle;\n",
       "    }\n",
       "\n",
       "    .dataframe tbody tr th {\n",
       "        vertical-align: top;\n",
       "    }\n",
       "\n",
       "    .dataframe thead th {\n",
       "        text-align: right;\n",
       "    }\n",
       "</style>\n",
       "<table border=\"1\" class=\"dataframe\">\n",
       "  <thead>\n",
       "    <tr style=\"text-align: right;\">\n",
       "      <th></th>\n",
       "      <th>a</th>\n",
       "      <th>b</th>\n",
       "      <th>c</th>\n",
       "      <th>d</th>\n",
       "    </tr>\n",
       "  </thead>\n",
       "  <tbody>\n",
       "    <tr>\n",
       "      <th>count</th>\n",
       "      <td>7.000000</td>\n",
       "      <td>7.000000</td>\n",
       "      <td>7.000000</td>\n",
       "      <td>7.000000</td>\n",
       "    </tr>\n",
       "    <tr>\n",
       "      <th>mean</th>\n",
       "      <td>-0.793281</td>\n",
       "      <td>-0.295524</td>\n",
       "      <td>-0.368955</td>\n",
       "      <td>-0.356146</td>\n",
       "    </tr>\n",
       "    <tr>\n",
       "      <th>std</th>\n",
       "      <td>1.019293</td>\n",
       "      <td>1.897520</td>\n",
       "      <td>1.900086</td>\n",
       "      <td>1.040635</td>\n",
       "    </tr>\n",
       "    <tr>\n",
       "      <th>min</th>\n",
       "      <td>-1.940825</td>\n",
       "      <td>-2.427711</td>\n",
       "      <td>-2.746493</td>\n",
       "      <td>-2.515743</td>\n",
       "    </tr>\n",
       "    <tr>\n",
       "      <th>25%</th>\n",
       "      <td>-1.608411</td>\n",
       "      <td>-1.731946</td>\n",
       "      <td>-1.331688</td>\n",
       "      <td>-0.463309</td>\n",
       "    </tr>\n",
       "    <tr>\n",
       "      <th>50%</th>\n",
       "      <td>-0.679436</td>\n",
       "      <td>-0.492923</td>\n",
       "      <td>-0.853063</td>\n",
       "      <td>-0.045844</td>\n",
       "    </tr>\n",
       "    <tr>\n",
       "      <th>75%</th>\n",
       "      <td>-0.285457</td>\n",
       "      <td>1.021122</td>\n",
       "      <td>0.428802</td>\n",
       "      <td>0.262505</td>\n",
       "    </tr>\n",
       "    <tr>\n",
       "      <th>max</th>\n",
       "      <td>0.855029</td>\n",
       "      <td>2.273616</td>\n",
       "      <td>2.822647</td>\n",
       "      <td>0.470173</td>\n",
       "    </tr>\n",
       "  </tbody>\n",
       "</table>\n",
       "</div>"
      ],
      "text/plain": [
       "              a         b         c         d\n",
       "count  7.000000  7.000000  7.000000  7.000000\n",
       "mean  -0.793281 -0.295524 -0.368955 -0.356146\n",
       "std    1.019293  1.897520  1.900086  1.040635\n",
       "min   -1.940825 -2.427711 -2.746493 -2.515743\n",
       "25%   -1.608411 -1.731946 -1.331688 -0.463309\n",
       "50%   -0.679436 -0.492923 -0.853063 -0.045844\n",
       "75%   -0.285457  1.021122  0.428802  0.262505\n",
       "max    0.855029  2.273616  2.822647  0.470173"
      ]
     },
     "execution_count": 23,
     "metadata": {},
     "output_type": "execute_result"
    }
   ],
   "source": [
    "df.describe()"
   ]
  },
  {
   "cell_type": "code",
   "execution_count": 21,
   "id": "7c3364c3",
   "metadata": {},
   "outputs": [
    {
     "data": {
      "text/html": [
       "<div>\n",
       "<style scoped>\n",
       "    .dataframe tbody tr th:only-of-type {\n",
       "        vertical-align: middle;\n",
       "    }\n",
       "\n",
       "    .dataframe tbody tr th {\n",
       "        vertical-align: top;\n",
       "    }\n",
       "\n",
       "    .dataframe thead th {\n",
       "        text-align: right;\n",
       "    }\n",
       "</style>\n",
       "<table border=\"1\" class=\"dataframe\">\n",
       "  <thead>\n",
       "    <tr style=\"text-align: right;\">\n",
       "      <th></th>\n",
       "      <th>a</th>\n",
       "      <th>b</th>\n",
       "      <th>c</th>\n",
       "      <th>d</th>\n",
       "    </tr>\n",
       "  </thead>\n",
       "  <tbody>\n",
       "    <tr>\n",
       "      <th>2022-05-21</th>\n",
       "      <td>-0.679436</td>\n",
       "      <td>2.023068</td>\n",
       "      <td>-0.634096</td>\n",
       "      <td>-0.782462</td>\n",
       "    </tr>\n",
       "    <tr>\n",
       "      <th>2022-05-22</th>\n",
       "      <td>-0.620292</td>\n",
       "      <td>-1.093082</td>\n",
       "      <td>1.491700</td>\n",
       "      <td>-2.515743</td>\n",
       "    </tr>\n",
       "    <tr>\n",
       "      <th>2022-05-23</th>\n",
       "      <td>0.049379</td>\n",
       "      <td>-0.492923</td>\n",
       "      <td>-2.746493</td>\n",
       "      <td>0.439179</td>\n",
       "    </tr>\n",
       "  </tbody>\n",
       "</table>\n",
       "</div>"
      ],
      "text/plain": [
       "                   a         b         c         d\n",
       "2022-05-21 -0.679436  2.023068 -0.634096 -0.782462\n",
       "2022-05-22 -0.620292 -1.093082  1.491700 -2.515743\n",
       "2022-05-23  0.049379 -0.492923 -2.746493  0.439179"
      ]
     },
     "execution_count": 21,
     "metadata": {},
     "output_type": "execute_result"
    }
   ],
   "source": [
    "df[1:4]"
   ]
  },
  {
   "cell_type": "code",
   "execution_count": 22,
   "id": "0774afc6",
   "metadata": {},
   "outputs": [
    {
     "data": {
      "text/plain": [
       "2022-05-20   -0.045844\n",
       "2022-05-21   -0.782462\n",
       "2022-05-22   -2.515743\n",
       "2022-05-23    0.439179\n",
       "2022-05-24    0.085831\n",
       "2022-05-25    0.470173\n",
       "2022-05-26   -0.144155\n",
       "Freq: D, Name: d, dtype: float64"
      ]
     },
     "execution_count": 22,
     "metadata": {},
     "output_type": "execute_result"
    }
   ],
   "source": [
    "df[\"d\"]"
   ]
  },
  {
   "cell_type": "code",
   "execution_count": 24,
   "id": "f2bbe22c",
   "metadata": {},
   "outputs": [
    {
     "data": {
      "text/plain": [
       "a   -0.793281\n",
       "b   -0.295524\n",
       "c   -0.368955\n",
       "d   -0.356146\n",
       "dtype: float64"
      ]
     },
     "execution_count": 24,
     "metadata": {},
     "output_type": "execute_result"
    }
   ],
   "source": [
    "df.mean()"
   ]
  },
  {
   "cell_type": "code",
   "execution_count": 36,
   "id": "eb7326bf",
   "metadata": {},
   "outputs": [
    {
     "data": {
      "text/html": [
       "<div>\n",
       "<style scoped>\n",
       "    .dataframe tbody tr th:only-of-type {\n",
       "        vertical-align: middle;\n",
       "    }\n",
       "\n",
       "    .dataframe tbody tr th {\n",
       "        vertical-align: top;\n",
       "    }\n",
       "\n",
       "    .dataframe thead th {\n",
       "        text-align: right;\n",
       "    }\n",
       "</style>\n",
       "<table border=\"1\" class=\"dataframe\">\n",
       "  <thead>\n",
       "    <tr style=\"text-align: right;\">\n",
       "      <th></th>\n",
       "      <th>a</th>\n",
       "      <th>b</th>\n",
       "      <th>c</th>\n",
       "      <th>d</th>\n",
       "    </tr>\n",
       "  </thead>\n",
       "  <tbody>\n",
       "    <tr>\n",
       "      <th>2022-05-21</th>\n",
       "      <td>-0.679436</td>\n",
       "      <td>2.023068</td>\n",
       "      <td>-0.634096</td>\n",
       "      <td>-0.782462</td>\n",
       "    </tr>\n",
       "  </tbody>\n",
       "</table>\n",
       "</div>"
      ],
      "text/plain": [
       "                   a         b         c         d\n",
       "2022-05-21 -0.679436  2.023068 -0.634096 -0.782462"
      ]
     },
     "execution_count": 36,
     "metadata": {},
     "output_type": "execute_result"
    }
   ],
   "source": [
    "df[1:2]"
   ]
  },
  {
   "cell_type": "code",
   "execution_count": 52,
   "id": "846205a7",
   "metadata": {},
   "outputs": [
    {
     "data": {
      "text/html": [
       "<div>\n",
       "<style scoped>\n",
       "    .dataframe tbody tr th:only-of-type {\n",
       "        vertical-align: middle;\n",
       "    }\n",
       "\n",
       "    .dataframe tbody tr th {\n",
       "        vertical-align: top;\n",
       "    }\n",
       "\n",
       "    .dataframe thead th {\n",
       "        text-align: right;\n",
       "    }\n",
       "</style>\n",
       "<table border=\"1\" class=\"dataframe\">\n",
       "  <thead>\n",
       "    <tr style=\"text-align: right;\">\n",
       "      <th></th>\n",
       "      <th>a</th>\n",
       "      <th>b</th>\n",
       "      <th>c</th>\n",
       "    </tr>\n",
       "  </thead>\n",
       "  <tbody>\n",
       "    <tr>\n",
       "      <th>2022-05-21</th>\n",
       "      <td>-0.679436</td>\n",
       "      <td>2.023068</td>\n",
       "      <td>-0.634096</td>\n",
       "    </tr>\n",
       "    <tr>\n",
       "      <th>2022-05-22</th>\n",
       "      <td>-0.620292</td>\n",
       "      <td>-1.093082</td>\n",
       "      <td>1.491700</td>\n",
       "    </tr>\n",
       "  </tbody>\n",
       "</table>\n",
       "</div>"
      ],
      "text/plain": [
       "                   a         b         c\n",
       "2022-05-21 -0.679436  2.023068 -0.634096\n",
       "2022-05-22 -0.620292 -1.093082  1.491700"
      ]
     },
     "execution_count": 52,
     "metadata": {},
     "output_type": "execute_result"
    }
   ],
   "source": [
    "df.loc[dates[1:3],'a':'c']"
   ]
  },
  {
   "cell_type": "code",
   "execution_count": 53,
   "id": "d68c6380",
   "metadata": {},
   "outputs": [
    {
     "data": {
      "text/html": [
       "<div>\n",
       "<style scoped>\n",
       "    .dataframe tbody tr th:only-of-type {\n",
       "        vertical-align: middle;\n",
       "    }\n",
       "\n",
       "    .dataframe tbody tr th {\n",
       "        vertical-align: top;\n",
       "    }\n",
       "\n",
       "    .dataframe thead th {\n",
       "        text-align: right;\n",
       "    }\n",
       "</style>\n",
       "<table border=\"1\" class=\"dataframe\">\n",
       "  <thead>\n",
       "    <tr style=\"text-align: right;\">\n",
       "      <th></th>\n",
       "      <th>a</th>\n",
       "      <th>b</th>\n",
       "      <th>c</th>\n",
       "      <th>d</th>\n",
       "    </tr>\n",
       "  </thead>\n",
       "  <tbody>\n",
       "    <tr>\n",
       "      <th>2022-05-22</th>\n",
       "      <td>-0.620292</td>\n",
       "      <td>-1.093082</td>\n",
       "      <td>1.491700</td>\n",
       "      <td>-2.515743</td>\n",
       "    </tr>\n",
       "    <tr>\n",
       "      <th>2022-05-21</th>\n",
       "      <td>-0.679436</td>\n",
       "      <td>2.023068</td>\n",
       "      <td>-0.634096</td>\n",
       "      <td>-0.782462</td>\n",
       "    </tr>\n",
       "    <tr>\n",
       "      <th>2022-05-26</th>\n",
       "      <td>-1.851442</td>\n",
       "      <td>2.273616</td>\n",
       "      <td>-0.853063</td>\n",
       "      <td>-0.144155</td>\n",
       "    </tr>\n",
       "    <tr>\n",
       "      <th>2022-05-20</th>\n",
       "      <td>-1.365380</td>\n",
       "      <td>-2.427711</td>\n",
       "      <td>2.822647</td>\n",
       "      <td>-0.045844</td>\n",
       "    </tr>\n",
       "    <tr>\n",
       "      <th>2022-05-24</th>\n",
       "      <td>-1.940825</td>\n",
       "      <td>-2.370810</td>\n",
       "      <td>-1.013463</td>\n",
       "      <td>0.085831</td>\n",
       "    </tr>\n",
       "    <tr>\n",
       "      <th>2022-05-23</th>\n",
       "      <td>0.049379</td>\n",
       "      <td>-0.492923</td>\n",
       "      <td>-2.746493</td>\n",
       "      <td>0.439179</td>\n",
       "    </tr>\n",
       "    <tr>\n",
       "      <th>2022-05-25</th>\n",
       "      <td>0.855029</td>\n",
       "      <td>0.019175</td>\n",
       "      <td>-1.649914</td>\n",
       "      <td>0.470173</td>\n",
       "    </tr>\n",
       "  </tbody>\n",
       "</table>\n",
       "</div>"
      ],
      "text/plain": [
       "                   a         b         c         d\n",
       "2022-05-22 -0.620292 -1.093082  1.491700 -2.515743\n",
       "2022-05-21 -0.679436  2.023068 -0.634096 -0.782462\n",
       "2022-05-26 -1.851442  2.273616 -0.853063 -0.144155\n",
       "2022-05-20 -1.365380 -2.427711  2.822647 -0.045844\n",
       "2022-05-24 -1.940825 -2.370810 -1.013463  0.085831\n",
       "2022-05-23  0.049379 -0.492923 -2.746493  0.439179\n",
       "2022-05-25  0.855029  0.019175 -1.649914  0.470173"
      ]
     },
     "execution_count": 53,
     "metadata": {},
     "output_type": "execute_result"
    }
   ],
   "source": [
    "df.sort_values(by = 'd')"
   ]
  },
  {
   "cell_type": "code",
   "execution_count": 55,
   "id": "69acd457",
   "metadata": {},
   "outputs": [
    {
     "data": {
      "text/html": [
       "<div>\n",
       "<style scoped>\n",
       "    .dataframe tbody tr th:only-of-type {\n",
       "        vertical-align: middle;\n",
       "    }\n",
       "\n",
       "    .dataframe tbody tr th {\n",
       "        vertical-align: top;\n",
       "    }\n",
       "\n",
       "    .dataframe thead th {\n",
       "        text-align: right;\n",
       "    }\n",
       "</style>\n",
       "<table border=\"1\" class=\"dataframe\">\n",
       "  <thead>\n",
       "    <tr style=\"text-align: right;\">\n",
       "      <th></th>\n",
       "      <th>a</th>\n",
       "      <th>b</th>\n",
       "      <th>c</th>\n",
       "      <th>d</th>\n",
       "    </tr>\n",
       "  </thead>\n",
       "  <tbody>\n",
       "    <tr>\n",
       "      <th>2022-05-23</th>\n",
       "      <td>0.049379</td>\n",
       "      <td>-0.492923</td>\n",
       "      <td>-2.746493</td>\n",
       "      <td>0.439179</td>\n",
       "    </tr>\n",
       "    <tr>\n",
       "      <th>2022-05-25</th>\n",
       "      <td>0.855029</td>\n",
       "      <td>0.019175</td>\n",
       "      <td>-1.649914</td>\n",
       "      <td>0.470173</td>\n",
       "    </tr>\n",
       "  </tbody>\n",
       "</table>\n",
       "</div>"
      ],
      "text/plain": [
       "                   a         b         c         d\n",
       "2022-05-23  0.049379 -0.492923 -2.746493  0.439179\n",
       "2022-05-25  0.855029  0.019175 -1.649914  0.470173"
      ]
     },
     "execution_count": 55,
     "metadata": {},
     "output_type": "execute_result"
    }
   ],
   "source": [
    "df[df['a']>0]"
   ]
  },
  {
   "cell_type": "code",
   "execution_count": 56,
   "id": "13b04c48",
   "metadata": {},
   "outputs": [],
   "source": [
    "df.to_csv(\"temp_pandas_data.csv\")"
   ]
  },
  {
   "cell_type": "code",
   "execution_count": null,
   "id": "279c2857",
   "metadata": {},
   "outputs": [],
   "source": []
  }
 ],
 "metadata": {
  "kernelspec": {
   "display_name": "Python 3",
   "language": "python",
   "name": "python3"
  },
  "language_info": {
   "codemirror_mode": {
    "name": "ipython",
    "version": 3
   },
   "file_extension": ".py",
   "mimetype": "text/x-python",
   "name": "python",
   "nbconvert_exporter": "python",
   "pygments_lexer": "ipython3",
   "version": "3.8.8"
  }
 },
 "nbformat": 4,
 "nbformat_minor": 5
}
